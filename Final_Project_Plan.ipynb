{
 "cells": [
  {
   "cell_type": "markdown",
   "metadata": {},
   "source": [
    "## A3.  Final Project Plan\n",
    "\n",
    "#### Samir D. Patel"
   ]
  },
  {
   "cell_type": "markdown",
   "metadata": {},
   "source": [
    " "
   ]
  },
  {
   "cell_type": "markdown",
   "metadata": {},
   "source": [
    "### Introduction\n",
    "\n",
    "College selection can often be an overwhelming and stressful process for high school graduates in the United States. Every year, tens of millions of prospective students must weigh several selection factors such as tuition cost, proximity, pre-requisites, program reputation, majors of interest, and future success indicators such as average salary upon graduation.  These short-term decisions could result in not only greater chances of financial success but also career-satisfaction long-term.\n",
    "\n",
    "While popular annual college rankings like those published by the U.S. News and World Report are thought as a useful guide for students and parents, to many they provide only a one-size fits all solution for students, particularly catering to matching elite students to elite universities. But are such reports helpful for most students? Given the number of options for collegial study in the country, students of all socio-economic backgrounds, geographic locations, interests, and aptitudes, need the ability to hone in on options for colleges that fit them best. This process should align them to the university that best fits them, and not only the other way around, taking as inputs each applicant’s qualities, needs, and aspirations.\n",
    "\n"
   ]
  },
  {
   "cell_type": "markdown",
   "metadata": {},
   "source": [
    "### Data Set and Motivations\n",
    "\n",
    "\n",
    "The U.S. Department of Education’s Office of Planning, Evaluation and Policy Development provides an open dataset, [“College Scorecard”](https://collegescorecard.ed.gov/data/documentation/).  This data set’s abstract details the goal of making it “easier for students to search for a college that is a good fit for them” [1]. The raw data set contains rows featuring various universities around the country.  For each university, there are a number of the features included which are expected with college data sets, including university location, admissions rate, tuition cost,  SAT/ACT score percentiles, number of students (also broken out by race and gender).  But it also includes more detailed features that can be leveraged for additional insights, including the percentage of degrees awarded in various programs, average net prices for various family incomes, retention rate, percent of students receiving federal loans, average/median loan debt amounts, estimated earnings post-graduation, etc.   The data set in total has 1,777 columns and is also available in annual segments dating from 1996-1997 through 2015-2016.\n",
    "\n",
    "Given the huge amount of data features, I've mentioned features of interest but will not go into details on summarizing each and every one. But as a reference, the data dictionary provided for the “College Scorecard” data can be found below:\n",
    "\n",
    "https://collegescorecard.ed.gov/assets/CollegeScorecardDataDictionary.xlsx\n"
   ]
  },
  {
   "cell_type": "markdown",
   "metadata": {},
   "source": [
    "### Goals/Objectives in Respect to Human-Centered Data Science\n",
    "\n",
    "The goal of the project will be to perform an analysis that can be used by policymakers, university admissions officials and affected students for the benefit of understanding optimal conditions for success at universities for applicants of underprivileged socio-economic backgrounds, who require financial aid.  \n",
    "\n",
    "An inference model will be developed by regression methods (various linear and potentially non-linear methods will be assessed) and should allow for a consideration of important factors in admissions for universities that set up underprivileged students best for success – whether it be grants, affordable tuition, school size, program availability, geographic location and demographics of peers in their class. Users will be able to see which universities succeed at maintaining high retention rates by providing the environment and resources for these students to succeed.  In turn, this would allow for further studies to understand these parameters, validate their true benefits, and optimize retention conditions.\n"
   ]
  },
  {
   "cell_type": "markdown",
   "metadata": {},
   "source": [
    "### Research Questions and Hypotheses:\n",
    "\n",
    "#### Research Question\n",
    "What conditions (or features) minimize the chance of withdrawal of underprivileged students (financially dependent and of lower income brackets) attending a  4-year, public university, full-time?\n",
    "\n",
    "#### Goal:\n",
    "Create an model that can be used for inference (assessing the quantitative value of important features) while also predicting retention rates (and potentially other indicators of student success, such as isalary upon graduation).\n",
    "\n",
    "#### Hypothesis:\n",
    "\n",
    "Each of the following factors result in increased retention of underprivileged students:\n",
    "    - Diversity in student demographics\n",
    "    - Gender - Females being more likely to remain in school than males.\n",
    "    - Funding in the forms of grants and low overall costs of attending.\n",
    "\n",
    "#### Existing Evidence/Literature study:\n",
    "\n",
    "The New York Times' data-journalism site, \"The Upshot\" recently saw in 2015 that the University of California public school system led the United States in enrolling high-performing students of all economic backgrounds [2].  The three factors that were determined by their \"College Access Index\" to have contributed to this diversity were the percentage of students receiving Pell Grants, graduate rates of those students, and the net costs of attending college. \n",
    "\n",
    "In addition, in 2014, the Pew Research Center saw that the enrollment of women in college is higher than that of men for Hispanic, Black, White and Asian ethnicities [2].  The higher enrollment in applications and acceptance to a university is hypothesized to result in higher retention.  In a separate study from 2017, Pew observed that minority students often go to schools where at least half their peers are of the same race or ethnicity [3].  While the reasons for this may be complex and not necessarily out of choice for many of these students, presence of diversity seems to be an indicator of influencing college selection which is believed to positively effect retention rates.\n",
    "\n",
    "\n",
    "\n"
   ]
  },
  {
   "cell_type": "markdown",
   "metadata": {},
   "source": [
    "### Methods (Analytical Models to be Used/Developed)\n",
    "\n",
    "To begin this study, data will first be extracted from a U.S. Department Education’s College Scorecard Data API, where time ranges and university attributes of interest can be queried.  \n",
    "\n",
    "The data will first be investigated thoroughly, given its breadth, using exploratory data analysis within Python to help identify and patterns and validate any assumptions.   This will help in the process of framing research questions.  If limitations arise or the nature of the data requires specific curation techniques or considerations, this is the step that will allow for any adjustments to the research design.\n",
    "\n",
    "The data set will be curated (as needed) and processed using the programming language Python, which can handle the large the sizes of the datasets (each is split by year, with size ranging between 120-145 MB.  The data cleaning process will be aided by commonly used packages such as pandas and numpy and modeling algorithms can  be performed using Python’s Sci-Kit Learn package.  \n",
    "\n",
    "The goal will be to create an inference model, using regression techniques, to assess relative importance of features in answering the question “What conditions allow for minimized chance of withdrawal by underprivileged students at a public, 4-year university?”.   The label, or dependent variable, will be the data set’s column for “First-time, full-time student retention rate at four-year institutions”.  \n",
    "\n",
    "The specific regression models that will be assessed will include more rigid models that are more commonly used and better suited for inference, such as multiple linear regression and the more flexible LASSO method.  The latter method will be of primary interest as it can perform help feature reduction on the \"College Scoreboard\" data set which could be of consequential importance when assessing key factors.\n"
   ]
  },
  {
   "cell_type": "markdown",
   "metadata": {},
   "source": [
    "### Unknowns and Limitations\n",
    "\n",
    "One of the unknowns in the study is the sparsity of features (unfilled data columns) which will be further assessed during the exploratory data analysis phase.  In addition, there is the open question of the benefit of leveraging historical data beyond the most recent data publication for the year, 2016-2017.  To assess the effects of older data on the model, we will develop versions with the most recent year and two others considering the last 3 and 5 years of “College Scorecard” and compare differences.\n",
    "\n",
    "There is also a potential limitation in the subjectivity of defining of success, as the \"retention rate\" criterion is only one indicator. If there is a statistically valid way to assess multiple success indicators together or separately for inference, that may be explored as well and the research question may be reframed.\n",
    "\n",
    "Another consideration in the project will be if a meaningful model is viable from the data for the goal of assessing and quantifying feature contribution to student retention.  If the EDA and modeling process for example results in a non-linear model (such as a General Additive Model) where inference is difficult and any meaningful extraction of insight is unlikely, the analysis may have to move more into either focusing on prediction of retention.  Or maybe moving into a space of a more qualitative study, creating visualizations assessing various indicators representing various metrics of underprivileged student success (outcome salary, retention rate, graduation rate, etc.).  This would be another case where the research question may need to be reframed.\n",
    "\n",
    "#### Note:  Just recently (November 9) I had noticed the U.S Department of Education had published [findings](https://collegescorecard.ed.gov/assets/FullDataDocumentation.pdf) for the \"College Scorecard\" data set. In order to fully understand the breadth of considerations and their own limitations to inform this study, this document will be also be reviewed before going into EDA and modeling, in the case any reframing of the design is required.\n"
   ]
  },
  {
   "cell_type": "markdown",
   "metadata": {},
   "source": [
    "### Other Human-Centered Considerations:\n",
    "\n",
    "#### Is it legal to use this data set?\n",
    "\n",
    "This data has been made open, released explicitly for public access and use and is licensed under a Creative Commons Attribution 4.0 International License.\n",
    "\n",
    "#### What are the data ethics considerations?\n",
    "\n",
    "The data set contains no personal information of applicants, only information summarized in the form of  university summary statistics for admissions and performance.  Since it is not personalized, the concern of any unintended violation of privacy does not exist.  In terms of bias concerns, this is something that will have to be actively considered throughout the project, particularly in important steps such as the exploratory data analysis, to better understand various metrics used and their validity. To note one example of a bias consideration, the U.S. Department of Education does acknowledge in their report which supplements data set, that the data set's metrics on institutional performance focus on undergraduate students requiring Federal Aid [5].  So while excluding students that do not require federal funding may imply a bias, they look to clarify that the study is intentionally directed towards the federally-aided students and not all students.  Understanding details like these will help inform this research project on any underlying considerations mentioned with the data set's release along with the results generated.\n",
    "\n",
    "In addition, when developing the inference model, the features used and their relative weights can have an important effect on the model’s bias and will be evaluated in the final assessment.   All code will be released and open for public evaluation to help further assess any bias in the study, in addition to the post-mortem analysis that will be done when summarizing the study's results.\n",
    "\n",
    "#### Are there potential harms from this study?\n",
    "\n",
    "The study is intended to take the data in its existing form from the U.S. Department of Education and apply a model to allow inference of what factors at universities can contribute to success of underprivileged students.  Since the study is not based on any data collected from clinical research, there is a zero likelihood for any direct harm, as we will be focused on analysis from existing data.\n",
    "\n",
    "By revealing the process and methodologies used, along with a full release of code, model details, and supporting documentation, the goal is to allow an open discussion and for the opportunity of public reproducibility and replication as desired to confirm or dispute any conclusions drawn from the study.  There will be no actionable items put into effect from this study, only an analysis, conclusions and recommendations for discussion in an open forum with full transparency.\n"
   ]
  },
  {
   "cell_type": "markdown",
   "metadata": {},
   "source": [
    "### References\n",
    "\n",
    "[1] College Scorecard Data. (n.d.). Retrieved November 07, 2017, from https://collegescorecard.ed.gov/data/documentation/\n",
    "\n",
    "[2] Leonhardt, D. (2015, September 16). California’s Upward-Mobility Machine. Retrieved November 07, 2017, from https://www.nytimes.com/2015/09/17/upshot/californias-university-system-an-upward-mobility-machine.html?_r=1\n",
    "\n",
    "\n",
    "[3]  Lopez, M. H., & Gonzalez-Barrera, A. (2014, March 06). Women’s college enrollment gains leave men behind. Retrieved November 07, 2017, from http://www.pewresearch.org/fact-tank/2014/03/06/womens-college-enrollment-gains-leave-men-behind/\n",
    "\n",
    "[4]  Geiger, A. (2017, October 25). Many minority students go to schools where at least half of their peers are their race or ethnicity. Retrieved November 07, 2017, from http://www.pewresearch.org/fact-tank/2017/10/25/many-minority-students-go-to-schools-where-at-least-half-of-their-peers-are-their-race-or-ethnicity/\n",
    "\n",
    "[5] College Scorecard Data Documentation. (n.d.). Retrieved November 09, 2017, from https://collegescorecard.ed.gov/assets/FullDataDocumentation.pdf"
   ]
  }
 ],
 "metadata": {
  "kernelspec": {
   "display_name": "Python 3",
   "language": "python",
   "name": "python3"
  },
  "language_info": {
   "codemirror_mode": {
    "name": "ipython",
    "version": 3
   },
   "file_extension": ".py",
   "mimetype": "text/x-python",
   "name": "python",
   "nbconvert_exporter": "python",
   "pygments_lexer": "ipython3",
   "version": "3.6.0"
  }
 },
 "nbformat": 4,
 "nbformat_minor": 2
}
